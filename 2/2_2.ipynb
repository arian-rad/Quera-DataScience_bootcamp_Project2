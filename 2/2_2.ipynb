{
  "nbformat": 4,
  "nbformat_minor": 0,
  "metadata": {
    "colab": {
      "provenance": [],
      "gpuType": "T4"
    },
    "kernelspec": {
      "name": "python3",
      "display_name": "Python 3"
    },
    "language_info": {
      "name": "python"
    },
    "accelerator": "GPU"
  },
  "cells": [
    {
      "cell_type": "code",
      "execution_count": null,
      "metadata": {
        "colab": {
          "base_uri": "https://localhost:8080/"
        },
        "id": "EWaMN21PjNhe",
        "outputId": "e25e67b5-a544-49b0-803e-5276ebb4a850"
      },
      "outputs": [
        {
          "output_type": "stream",
          "name": "stdout",
          "text": [
            "Requirement already satisfied: nltk in /usr/local/lib/python3.10/dist-packages (3.8.1)\n",
            "Requirement already satisfied: click in /usr/local/lib/python3.10/dist-packages (from nltk) (8.1.7)\n",
            "Requirement already satisfied: joblib in /usr/local/lib/python3.10/dist-packages (from nltk) (1.3.2)\n",
            "Requirement already satisfied: regex>=2021.8.3 in /usr/local/lib/python3.10/dist-packages (from nltk) (2023.6.3)\n",
            "Requirement already satisfied: tqdm in /usr/local/lib/python3.10/dist-packages (from nltk) (4.66.1)\n",
            "Collecting fuzzywuzzy\n",
            "  Downloading fuzzywuzzy-0.18.0-py2.py3-none-any.whl (18 kB)\n",
            "Installing collected packages: fuzzywuzzy\n",
            "Successfully installed fuzzywuzzy-0.18.0\n"
          ]
        }
      ],
      "source": [
        "!pip install nltk\n",
        "!pip install fuzzywuzzy\n",
        "\n"
      ]
    },
    {
      "cell_type": "code",
      "source": [
        "import pandas as pd\n",
        "import nltk\n",
        "from fuzzywuzzy import fuzz\n",
        "\n",
        "nltk.download('wordnet')\n"
      ],
      "metadata": {
        "colab": {
          "base_uri": "https://localhost:8080/"
        },
        "id": "axHvpHZ_lsLs",
        "outputId": "34d406b3-8737-4c1d-d549-b2edffa2e44f"
      },
      "execution_count": null,
      "outputs": [
        {
          "output_type": "stream",
          "name": "stderr",
          "text": [
            "/usr/local/lib/python3.10/dist-packages/fuzzywuzzy/fuzz.py:11: UserWarning: Using slow pure-python SequenceMatcher. Install python-Levenshtein to remove this warning\n",
            "  warnings.warn('Using slow pure-python SequenceMatcher. Install python-Levenshtein to remove this warning')\n",
            "[nltk_data] Downloading package wordnet to /root/nltk_data...\n",
            "[nltk_data]   Package wordnet is already up-to-date!\n"
          ]
        },
        {
          "output_type": "execute_result",
          "data": {
            "text/plain": [
              "True"
            ]
          },
          "metadata": {},
          "execution_count": 17
        }
      ]
    },
    {
      "cell_type": "code",
      "source": [
        "df = pd.read_csv('train_data.csv')\n"
      ],
      "metadata": {
        "id": "34445u-vlWJ4"
      },
      "execution_count": null,
      "outputs": []
    },
    {
      "cell_type": "code",
      "source": [
        "import pandas as pd\n",
        "from nltk.corpus import wordnet\n",
        "\n",
        "def get_synonyms(word):\n",
        "    synonyms = []\n",
        "    for syn in wordnet.synsets(word):\n",
        "        for lemma in syn.lemmas():\n",
        "            synonyms.append(lemma.name())\n",
        "    return set(synonyms)\n",
        "\n",
        "def get_similar_spellings(word):\n",
        "    spellings = set()\n",
        "    for syn in wordnet.synsets(word):\n",
        "        for lemma in syn.lemmas():\n",
        "            spelling_ratio = fuzz.ratio(word, lemma.name())\n",
        "            if spelling_ratio > 60:\n",
        "                spellings.add(lemma.name())\n",
        "    return spellings"
      ],
      "metadata": {
        "id": "p7RyJMANlOCa"
      },
      "execution_count": null,
      "outputs": []
    },
    {
      "cell_type": "code",
      "source": [
        "warranty_synonyms = get_synonyms(\"warranty\")\n",
        "guarantee_synonyms = get_synonyms(\"guarantee\")\n",
        "\n",
        "warranty_similar_spellings = get_similar_spellings(\"warranty\")\n",
        "guarantee_similar_spellings = get_similar_spellings(\"guarantee\")\n",
        "\n",
        "\n",
        "all_terms = list(\n",
        "    warranty_synonyms.union(warranty_similar_spellings) |\n",
        "    guarantee_synonyms.union(guarantee_similar_spellings) |\n",
        "    {'warranty', 'guarantee'}\n",
        ")\n",
        "\n",
        "print(all_terms)"
      ],
      "metadata": {
        "colab": {
          "base_uri": "https://localhost:8080/"
        },
        "id": "z6ZDBG5jlemh",
        "outputId": "5eb23d00-6bd3-4ea1-d0ef-e35d575db2ec"
      },
      "execution_count": null,
      "outputs": [
        {
          "output_type": "stream",
          "name": "stdout",
          "text": [
            "['insure', 'guaranty', 'ensure', 'warrantee', 'undertake', 'warrant', 'guarantee', 'vouch', 'secure', 'warranty', 'assure']\n"
          ]
        }
      ]
    },
    {
      "cell_type": "code",
      "source": [
        "filtered_rows = df[df['reviewText'].str.contains('|'.join(all_terms), case=False, na=False)]\n",
        "filtered_rows.to_csv('filtered_data.csv', index=False)\n",
        "\n"
      ],
      "metadata": {
        "id": "ejs1g6pdllyW"
      },
      "execution_count": null,
      "outputs": []
    },
    {
      "cell_type": "code",
      "source": [
        "mean_overall = filtered_rows.groupby('asin')['overall'].mean()\n",
        "print(mean_overall)\n"
      ],
      "metadata": {
        "colab": {
          "base_uri": "https://localhost:8080/"
        },
        "id": "BB08ACten09g",
        "outputId": "f193e9a2-345d-47b2-8ce4-33be7a79eeb0"
      },
      "execution_count": null,
      "outputs": [
        {
          "output_type": "stream",
          "name": "stdout",
          "text": [
            "asin\n",
            "0972683275    5.0\n",
            "1616825375    5.0\n",
            "9806010728    4.0\n",
            "B000001OM4    4.0\n",
            "B000001OM5    5.0\n",
            "             ... \n",
            "B00009R89L    4.5\n",
            "B00009R8T5    2.0\n",
            "B00009R8XD    5.0\n",
            "B00009R9BF    5.0\n",
            "B00009RDIF    5.0\n",
            "Name: overall, Length: 153, dtype: float64\n"
          ]
        }
      ]
    },
    {
      "cell_type": "code",
      "source": [
        "mean_overall.to_csv('mean_overall_ratings.csv', header=True)\n"
      ],
      "metadata": {
        "id": "vg6uT4sbpikI"
      },
      "execution_count": null,
      "outputs": []
    }
  ]
}